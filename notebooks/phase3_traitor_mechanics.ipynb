{
 "cells": [
  {
   "cell_type": "code",
   "execution_count": 36,
   "id": "d57c286c",
   "metadata": {},
   "outputs": [
    {
     "name": "stdout",
     "output_type": "stream",
     "text": [
      "Modules cleared - reimport in next cell\n"
     ]
    }
   ],
   "source": [
    "# Force reload modules (needed if you edited the code)\n",
    "import importlib\n",
    "import sys\n",
    "\n",
    "# Remove cached modules\n",
    "for mod in ['environment', 'models', 'game_state', 'config']:\n",
    "    if mod in sys.modules:\n",
    "        del sys.modules[mod]\n",
    "\n",
    "print(\"Modules cleared - reimport in next cell\")"
   ]
  },
  {
   "cell_type": "markdown",
   "id": "bff933ad",
   "metadata": {},
   "source": [
    "# Phase 3: Traitor / Deception / Poison / Evidence\n",
    "\n",
    "Demonstrates:\n",
    "- Random traitor assignment\n",
    "- Traitor enhanced vision (sees all positions)\n",
    "- Poison system (offer, symptoms, death)\n",
    "- Sabotage mechanics\n",
    "- Evidence logging\n",
    "- Voting and elimination\n",
    "- Win/loss conditions"
   ]
  },
  {
   "cell_type": "code",
   "execution_count": 37,
   "id": "dcac68ad",
   "metadata": {},
   "outputs": [],
   "source": [
    "import sys\n",
    "sys.path.insert(0, '../marooned_env')\n",
    "\n",
    "from environment import MaroonedEnv\n",
    "from config import ActionType, ResourceType, ShipComponent, BASE_CAMP_POSITION\n",
    "from models import Action, Position"
   ]
  },
  {
   "cell_type": "code",
   "execution_count": 38,
   "id": "47f3ef99",
   "metadata": {},
   "outputs": [
    {
     "name": "stdout",
     "output_type": "stream",
     "text": [
      "ROLE ASSIGNMENT\n",
      "Traitor: Charlie\n",
      "Alice: honest\n",
      "Bob: honest\n",
      "Charlie: traitor\n",
      "Diana: honest\n",
      "Eve: honest\n"
     ]
    }
   ],
   "source": [
    "# Initialize environment\n",
    "env = MaroonedEnv(seed=42)\n",
    "observations = env.reset()\n",
    "\n",
    "print(\"ROLE ASSIGNMENT\")\n",
    "print(f\"Traitor: {env.state.traitor_id}\")\n",
    "for name, sailor in env.state.sailors.items():\n",
    "    print(f\"{name}: {sailor.role.value}\")"
   ]
  },
  {
   "cell_type": "code",
   "execution_count": 39,
   "id": "626eba56",
   "metadata": {},
   "outputs": [
    {
     "name": "stdout",
     "output_type": "stream",
     "text": [
      "TRAITOR ENHANCED VISION\n",
      "Traitor sees all positions: True\n",
      "  Alice: (15, 15, <MapLevel.GROUND: 0>)\n",
      "  Bob: (15, 15, <MapLevel.GROUND: 0>)\n",
      "  Charlie: (15, 15, <MapLevel.GROUND: 0>)\n",
      "  Diana: (15, 15, <MapLevel.GROUND: 0>)\n",
      "  Eve: (15, 15, <MapLevel.GROUND: 0>)\n",
      "\n",
      "Honest sailor sees all positions: False\n"
     ]
    }
   ],
   "source": [
    "# Test traitor enhanced vision\n",
    "traitor_obs = env._generate_observation(env.state.traitor_id)\n",
    "honest_obs = env._generate_observation('Alice' if env.state.traitor_id != 'Alice' else 'Bob')\n",
    "\n",
    "print(\"TRAITOR ENHANCED VISION\")\n",
    "print(f\"Traitor sees all positions: {traitor_obs.all_sailor_positions is not None}\")\n",
    "if traitor_obs.all_sailor_positions:\n",
    "    for sailor, pos in traitor_obs.all_sailor_positions.items():\n",
    "        print(f\"  {sailor}: {pos.to_tuple()}\")\n",
    "\n",
    "print(f\"\\nHonest sailor sees all positions: {honest_obs.all_sailor_positions is not None}\")"
   ]
  },
  {
   "cell_type": "code",
   "execution_count": 40,
   "id": "2fe796ac",
   "metadata": {},
   "outputs": [
    {
     "name": "stdout",
     "output_type": "stream",
     "text": [
      "POISON SYSTEM\n",
      "Poison offered: True\n",
      "Victim poisoned on day: 1\n",
      "Poisoned by: Charlie\n",
      "\n",
      "Poison progression:\n",
      "Day 2: Alice state = early, alive = True\n",
      "Day 3: Alice state = severe, alive = True\n",
      "Day 4: Alice state = severe, alive = False\n"
     ]
    }
   ],
   "source": [
    "# Test poison offering and progression\n",
    "from config import MapLevel, PoisonState\n",
    "\n",
    "# Give traitor a poison tablet\n",
    "traitor = env.state.sailors[env.state.traitor_id]\n",
    "from models import InventoryItem\n",
    "traitor.add_to_backpack(ResourceType.POISON_TABLET, 1)\n",
    "\n",
    "# Move victim next to traitor\n",
    "victim_id = 'Alice' if env.state.traitor_id != 'Alice' else 'Bob'\n",
    "victim = env.state.sailors[victim_id]\n",
    "victim.position = traitor.position\n",
    "\n",
    "# Traitor offers poison\n",
    "print(\"POISON SYSTEM\")\n",
    "action = Action(\n",
    "    sailor_id=env.state.traitor_id,\n",
    "    action_type=ActionType.OFFER_FOOD,\n",
    "    target_sailor=victim_id,\n",
    "    resource_type=ResourceType.POISON_TABLET\n",
    ")\n",
    "result = env._execute_action(env.state.traitor_id, action)\n",
    "print(f\"Poison offered: {result['success']}\")\n",
    "print(f\"Victim poisoned on day: {victim.poisoned_on_day}\")\n",
    "print(f\"Poisoned by: {victim.poisoned_by}\")\n",
    "\n",
    "# Advance days to show poison progression\n",
    "print(\"\\nPoison progression:\")\n",
    "for day in range(1, 4):\n",
    "    env.state.current_day = env.state.current_day + 1\n",
    "    env._update_poison_states()\n",
    "    print(f\"Day {env.state.current_day}: {victim_id} state = {victim.poison_state.value}, alive = {victim.alive}\")"
   ]
  },
  {
   "cell_type": "code",
   "execution_count": 41,
   "id": "2ddeca1d",
   "metadata": {},
   "outputs": [
    {
     "name": "stdout",
     "output_type": "stream",
     "text": [
      "SABOTAGE SYSTEM\n",
      "Traitor: Diana\n",
      "Initial HULL progress: 60%\n",
      "\n",
      "Sabotage success: True\n",
      "Damage: -35%\n",
      "New HULL progress: 25%\n",
      "Evidence logged: 1 entries\n"
     ]
    }
   ],
   "source": [
    "# Reset and test sabotage\n",
    "env = MaroonedEnv(seed=100)\n",
    "env.reset()\n",
    "\n",
    "print(\"SABOTAGE SYSTEM\")\n",
    "traitor_id = env.state.traitor_id\n",
    "print(f\"Traitor: {traitor_id}\")\n",
    "\n",
    "# Setup: build ship progress first\n",
    "env.state.ship_progress.components[ShipComponent.HULL].progress_percentage = 60\n",
    "env.state.ship_progress.recalculate_total()\n",
    "print(f\"Initial HULL progress: {env.state.ship_progress.components[ShipComponent.HULL].progress_percentage}%\")\n",
    "\n",
    "# Move traitor to ship site\n",
    "ship_pos = Position(*BASE_CAMP_POSITION)\n",
    "env.state.sailors[traitor_id].position = ship_pos\n",
    "\n",
    "# Traitor sabotages\n",
    "action = Action(\n",
    "    sailor_id=traitor_id,\n",
    "    action_type=ActionType.SABOTAGE_SHIP,\n",
    "    ship_component=ShipComponent.HULL\n",
    ")\n",
    "result = env._execute_action(traitor_id, action)\n",
    "print(f\"\\nSabotage success: {result['success']}\")\n",
    "print(f\"Damage: -{result.get('damage', 0)}%\")\n",
    "print(f\"New HULL progress: {result.get('new_progress', 0)}%\")\n",
    "print(f\"Evidence logged: {len(env.state.evidence_log.all_evidence)} entries\")"
   ]
  },
  {
   "cell_type": "code",
   "execution_count": 42,
   "id": "aa3d9c7b",
   "metadata": {},
   "outputs": [
    {
     "name": "stdout",
     "output_type": "stream",
     "text": [
      "EVIDENCE LOG\n",
      "1. Day 1 - ship_sabotage\n",
      "   Ship component hull was damaged! Progress reduced by 35%\n",
      "   Strength: 95/100\n"
     ]
    }
   ],
   "source": [
    "# Test evidence log\n",
    "print(\"EVIDENCE LOG\")\n",
    "for i, evidence in enumerate(env.state.evidence_log.all_evidence, 1):\n",
    "    print(f\"{i}. Day {evidence.day} - {evidence.evidence_type.value}\")\n",
    "    print(f\"   {evidence.description}\")\n",
    "    print(f\"   Strength: {evidence.strength}/100\")"
   ]
  },
  {
   "cell_type": "code",
   "execution_count": 43,
   "id": "b7368944",
   "metadata": {},
   "outputs": [
    {
     "name": "stdout",
     "output_type": "stream",
     "text": [
      "VOTING & ELIMINATION\n",
      "Traitor: Eve\n",
      "Living sailors: ['Alice', 'Bob', 'Charlie', 'Diana', 'Eve']\n",
      "\n",
      "Vote initiated by Alice: True\n",
      "\n",
      "Elimination result:\n",
      "  Eliminated: Eve\n",
      "  Was traitor: True\n",
      "  Game over: True\n",
      "  Winner: sailors\n",
      "\n",
      "Remaining sailors: ['Alice', 'Bob', 'Charlie', 'Diana']\n"
     ]
    }
   ],
   "source": [
    "# Test voting and elimination\n",
    "env = MaroonedEnv(seed=200)\n",
    "env.reset()\n",
    "\n",
    "print(\"VOTING & ELIMINATION\")\n",
    "traitor_id = env.state.traitor_id\n",
    "print(f\"Traitor: {traitor_id}\")\n",
    "print(f\"Living sailors: {sorted(env.state.living_sailors)}\")\n",
    "\n",
    "# Set phase to discussion (voting allowed)\n",
    "env.state.current_phase = 'discussion'\n",
    "\n",
    "# Call vote\n",
    "caller = 'Alice' if traitor_id != 'Alice' else 'Bob'\n",
    "action = Action(sailor_id=caller, action_type=ActionType.CALL_VOTE)\n",
    "result = env._execute_action(caller, action)\n",
    "print(f\"\\nVote initiated by {caller}: {result['success']}\")\n",
    "\n",
    "# All sailors vote for traitor (make a list copy to avoid set modification during iteration)\n",
    "sailors_to_vote = list(env.state.living_sailors)\n",
    "for sailor_id in sailors_to_vote:\n",
    "    action = Action(\n",
    "        sailor_id=sailor_id,\n",
    "        action_type=ActionType.VOTE,\n",
    "        vote_target=traitor_id\n",
    "    )\n",
    "    result = env._execute_action(sailor_id, action)\n",
    "\n",
    "print(f\"\\nElimination result:\")\n",
    "print(f\"  Eliminated: {result.get('eliminated')}\")\n",
    "print(f\"  Was traitor: {result.get('was_traitor')}\")\n",
    "print(f\"  Game over: {result.get('game_over')}\")\n",
    "print(f\"  Winner: {result.get('winner')}\")\n",
    "print(f\"\\nRemaining sailors: {sorted(env.state.living_sailors)}\")"
   ]
  },
  {
   "cell_type": "code",
   "execution_count": 44,
   "id": "322ca9f5",
   "metadata": {},
   "outputs": [
    {
     "name": "stdout",
     "output_type": "stream",
     "text": [
      "WIN/LOSS CONDITIONS\n",
      "Ship 100%: Winner = sailors, Reason = Ship complete\n",
      "Day 100: Winner = traitor, Reason = Time expired\n",
      "2 sailors: Winner = traitor, Reason = Too few sailors to complete ship\n"
     ]
    }
   ],
   "source": [
    "# Test win conditions\n",
    "env = MaroonedEnv(seed=300)\n",
    "env.reset()\n",
    "\n",
    "print(\"WIN/LOSS CONDITIONS\")\n",
    "\n",
    "# Test 1: Ship completion wins\n",
    "env.state.ship_progress.total_percentage = 100\n",
    "result = env._check_win_conditions()\n",
    "print(f\"Ship 100%: Winner = {result['winner'] if result else None}, Reason = {result['reason'] if result else None}\")\n",
    "\n",
    "# Test 2: Day 100 timeout (traitor wins)\n",
    "env.state.ship_progress.total_percentage = 50\n",
    "env.state.current_day = 100\n",
    "result = env._check_win_conditions()\n",
    "print(f\"Day 100: Winner = {result['winner'] if result else None}, Reason = {result['reason'] if result else None}\")\n",
    "\n",
    "# Test 3: Too few sailors (traitor wins)\n",
    "env.state.current_day = 10\n",
    "env.state.living_sailors = {'Alice', 'Bob'}  # Only 2 left\n",
    "result = env._check_win_conditions()\n",
    "print(f\"2 sailors: Winner = {result['winner'] if result else None}, Reason = {result['reason'] if result else None}\")"
   ]
  }
 ],
 "metadata": {
  "kernelspec": {
   "display_name": "venv",
   "language": "python",
   "name": "python3"
  },
  "language_info": {
   "codemirror_mode": {
    "name": "ipython",
    "version": 3
   },
   "file_extension": ".py",
   "mimetype": "text/x-python",
   "name": "python",
   "nbconvert_exporter": "python",
   "pygments_lexer": "ipython3",
   "version": "3.12.11"
  }
 },
 "nbformat": 4,
 "nbformat_minor": 5
}
