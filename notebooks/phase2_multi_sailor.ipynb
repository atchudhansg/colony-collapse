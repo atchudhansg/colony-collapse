{
 "cells": [
  {
   "cell_type": "markdown",
   "metadata": {},
   "source": [
    "# Phase 2: Multi-Sailor Turn Order\n",
    "\n",
    "5 sailors alternate turns: Alice → Bob → Charlie → Diana → Eve → Alice..."
   ]
  },
  {
   "cell_type": "code",
   "execution_count": null,
   "metadata": {},
   "outputs": [],
   "source": [
    "import sys\n",
    "sys.path.insert(0, '../marooned_env')\n",
    "\n",
    "from environment import MaroonedEnv\n",
    "from config import ActionType, ResourceType, MapLevel, BASE_CAMP_POSITION\n",
    "from models import Action, Position, InventoryItem"
   ]
  },
  {
   "cell_type": "code",
   "execution_count": null,
   "metadata": {},
   "outputs": [],
   "source": [
    "env = MaroonedEnv(seed=42)\n",
    "observations = env.reset()\n",
    "\n",
    "print(f\"Sailors: {env.state.sailor_turn_order}\")\n",
    "print(f\"Active: {env.state.get_active_sailor()}\")"
   ]
  },
  {
   "cell_type": "code",
   "execution_count": null,
   "metadata": {},
   "outputs": [],
   "source": [
    "for i in range(10):\n",
    "    active = env.state.get_active_sailor()\n",
    "    action = Action(sailor_id=active, action_type=ActionType.MOVE_NORTH)\n",
    "    obs, reward, done, truncated, info = env.step({active: action})\n",
    "    print(f\"Turn {i+1}: {active} -> {env.state.get_active_sailor()}\")"
   ]
  },
  {
   "cell_type": "code",
   "execution_count": null,
   "metadata": {},
   "outputs": [],
   "source": [
    "alice = env.state.sailors[\"Alice\"]\n",
    "alice.backpack.append(InventoryItem(ResourceType.WOOD, 3))\n",
    "\n",
    "alice_obs = env._generate_observation(\"Alice\")\n",
    "bob_obs = env._generate_observation(\"Bob\")\n",
    "\n",
    "print(f\"Alice backpack: {len(alice_obs.backpack)} items\")\n",
    "print(f\"Bob backpack: {len(bob_obs.backpack)} items\")\n",
    "print(f\"Energy board visible to both: {alice_obs.all_sailors_energy == bob_obs.all_sailors_energy}\")"
   ]
  },
  {
   "cell_type": "code",
   "execution_count": null,
   "metadata": {},
   "outputs": [],
   "source": [
    "env.state.common_inventory.clear()\n",
    "env.state.common_inventory.append(InventoryItem(ResourceType.WOOD, 60))\n",
    "\n",
    "base_pos = Position(*BASE_CAMP_POSITION)\n",
    "env.state.sailors[\"Alice\"].position = base_pos\n",
    "env.state.sailors[\"Alice\"].energy = 100\n",
    "\n",
    "result = env._handle_build_ship(\"Alice\")\n",
    "print(f\"1 sailor: {result['success']} - {result['reason']}\")\n",
    "\n",
    "env.state.sailors[\"Bob\"].position = base_pos\n",
    "env.state.sailors[\"Bob\"].energy = 100\n",
    "result = env._handle_build_ship(\"Alice\")\n",
    "print(f\"2 sailors: {result['success']} - {result.get('component')}, {result.get('total_progress')}%\")"
   ]
  }
 ],
 "metadata": {
  "kernelspec": {
   "display_name": "Python 3",
   "language": "python",
   "name": "python3"
  }
 },
 "nbformat": 4,
 "nbformat_minor": 4
}
