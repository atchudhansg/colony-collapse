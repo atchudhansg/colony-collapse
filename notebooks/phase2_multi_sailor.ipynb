{
 "cells": [
  {
   "cell_type": "markdown",
   "id": "01ff0897",
   "metadata": {},
   "source": [
    "# Phase 2: Multi-Sailor Turn Order\n",
    "\n",
    "5 sailors alternate turns: Alice → Bob → Charlie → Diana → Eve → Alice..."
   ]
  },
  {
   "cell_type": "code",
   "execution_count": 1,
   "id": "cf650eb4",
   "metadata": {},
   "outputs": [],
   "source": [
    "import sys\n",
    "sys.path.insert(0, '../marooned_env')\n",
    "\n",
    "from environment import MaroonedEnv\n",
    "from config import ActionType, ResourceType, MapLevel, BASE_CAMP_POSITION\n",
    "from models import Action, Position, InventoryItem"
   ]
  },
  {
   "cell_type": "code",
   "execution_count": 2,
   "id": "3a920199",
   "metadata": {},
   "outputs": [
    {
     "name": "stdout",
     "output_type": "stream",
     "text": [
      "Sailors: ['Alice', 'Bob', 'Charlie', 'Diana', 'Eve']\n",
      "Active: Alice\n"
     ]
    }
   ],
   "source": [
    "env = MaroonedEnv(seed=42)\n",
    "observations = env.reset()\n",
    "\n",
    "print(f\"Sailors: {env.state.sailor_turn_order}\")\n",
    "print(f\"Active: {env.state.get_active_sailor()}\")"
   ]
  },
  {
   "cell_type": "code",
   "execution_count": 3,
   "id": "4602fc2c",
   "metadata": {},
   "outputs": [
    {
     "name": "stdout",
     "output_type": "stream",
     "text": [
      "Turn 1: Alice -> Bob\n",
      "Turn 2: Bob -> Charlie\n",
      "Turn 3: Charlie -> Diana\n",
      "Turn 4: Diana -> Eve\n",
      "Turn 5: Eve -> Alice\n",
      "Turn 6: Alice -> Bob\n",
      "Turn 7: Bob -> Charlie\n",
      "Turn 8: Charlie -> Diana\n",
      "Turn 9: Diana -> Eve\n",
      "Turn 10: Eve -> Alice\n"
     ]
    }
   ],
   "source": [
    "# Turn rotation test\n",
    "for i in range(10):\n",
    "    active = env.state.get_active_sailor()\n",
    "    action = Action(sailor_id=active, action_type=ActionType.MOVE_NORTH)\n",
    "    obs, reward, done, truncated, info = env.step({active: action})\n",
    "    print(f\"Turn {i+1}: {active} -> {env.state.get_active_sailor()}\")"
   ]
  },
  {
   "cell_type": "code",
   "execution_count": 4,
   "id": "95376599",
   "metadata": {},
   "outputs": [
    {
     "name": "stdout",
     "output_type": "stream",
     "text": [
      "Alice sees her backpack: 1 items\n",
      "Bob sees his backpack: 0 items\n",
      "Both see energy board: True\n"
     ]
    }
   ],
   "source": [
    "# Test visibility rules\n",
    "alice = env.state.sailors[\"Alice\"]\n",
    "alice.backpack.append(InventoryItem(ResourceType.WOOD, 3))\n",
    "\n",
    "alice_obs = env._generate_observation(\"Alice\")\n",
    "bob_obs = env._generate_observation(\"Bob\")\n",
    "\n",
    "print(f\"Alice sees her backpack: {len(alice_obs.backpack)} items\")\n",
    "print(f\"Bob sees his backpack: {len(bob_obs.backpack)} items\")\n",
    "print(f\"Both see energy board: {alice_obs.all_sailors_energy == bob_obs.all_sailors_energy}\")"
   ]
  },
  {
   "cell_type": "code",
   "execution_count": 5,
   "id": "dc3a98dc",
   "metadata": {},
   "outputs": [
    {
     "name": "stdout",
     "output_type": "stream",
     "text": [
      "1 sailor: False - Need at least 2 sailors at ship site (currently 1)\n",
      "2 sailors: True - Component: hull, Progress: 30%\n"
     ]
    }
   ],
   "source": [
    "# Test 2-sailor ship building\n",
    "env.state.common_inventory.clear()\n",
    "env.state.common_inventory.append(InventoryItem(ResourceType.WOOD, 60))\n",
    "\n",
    "base_pos = Position(*BASE_CAMP_POSITION)\n",
    "env.state.sailors[\"Alice\"].position = base_pos\n",
    "env.state.sailors[\"Alice\"].energy = 100\n",
    "\n",
    "# 1 sailor - should fail\n",
    "result = env._handle_build_ship(\"Alice\")\n",
    "print(f\"1 sailor: {result['success']} - {result['reason']}\")\n",
    "\n",
    "# 2 sailors - should succeed\n",
    "env.state.sailors[\"Bob\"].position = base_pos\n",
    "env.state.sailors[\"Bob\"].energy = 100\n",
    "result = env._handle_build_ship(\"Alice\")\n",
    "print(f\"2 sailors: {result['success']} - Component: {result.get('component')}, Progress: {result.get('total_progress')}%\")"
   ]
  },
  {
   "cell_type": "code",
   "execution_count": null,
   "id": "c6f1612e",
   "metadata": {},
   "outputs": [],
   "source": []
  }
 ],
 "metadata": {
  "kernelspec": {
   "display_name": "venv",
   "language": "python",
   "name": "python3"
  },
  "language_info": {
   "codemirror_mode": {
    "name": "ipython",
    "version": 3
   },
   "file_extension": ".py",
   "mimetype": "text/x-python",
   "name": "python",
   "nbconvert_exporter": "python",
   "pygments_lexer": "ipython3",
   "version": "3.12.11"
  }
 },
 "nbformat": 4,
 "nbformat_minor": 5
}
