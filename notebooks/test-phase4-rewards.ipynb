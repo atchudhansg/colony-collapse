{
 "cells": [
  {
   "cell_type": "markdown",
   "id": "50479671",
   "metadata": {},
   "source": [
    "# Phase 4 Validation: RL Reward Modeling\n",
    "\n",
    "Tests all Phase 4 reward signals:\n",
    "- Colonist rewards: gather, deposit, build, ship completion, traitor elimination\n",
    "- Traitor rewards: sabotage, poison kills, ship incomplete, colony collapse\n",
    "- Voting rewards: correct/incorrect votes\n",
    "- Ship milestone bonuses\n",
    "- Energy management rewards"
   ]
  },
  {
   "cell_type": "code",
   "execution_count": 1,
   "id": "bf26c608",
   "metadata": {},
   "outputs": [
    {
     "name": "stdout",
     "output_type": "stream",
     "text": [
      "✅ Modules loaded\n"
     ]
    }
   ],
   "source": [
    "import sys\n",
    "import importlib\n",
    "\n",
    "# Clear cached modules\n",
    "modules_to_clear = [m for m in list(sys.modules.keys()) if 'marooned' in m or m in ['environment', 'config', 'models', 'game_state', 'view_map']]\n",
    "for module in modules_to_clear:\n",
    "    if module in sys.modules:\n",
    "        del sys.modules[module]\n",
    "\n",
    "sys.path.insert(0, '../marooned_env')\n",
    "\n",
    "from environment import MaroonedEnv\n",
    "from config import (\n",
    "    ActionType, ResourceType, MapLevel, ShipComponent,\n",
    "    REWARD_COLONIST_GATHER_RESOURCE,\n",
    "    REWARD_COLONIST_DEPOSIT_RESOURCE,\n",
    "    REWARD_COLONIST_BUILD_CONTRIBUTE,\n",
    "    REWARD_SHIP_MILESTONE_25,\n",
    "    REWARD_TRAITOR_SABOTAGE_SUCCESS,\n",
    "    REWARD_TRAITOR_POISON_DEATH,\n",
    ")\n",
    "from models import Action, Position\n",
    "\n",
    "print(\"✅ Modules loaded\")"
   ]
  },
  {
   "cell_type": "code",
   "execution_count": 2,
   "id": "779d9277",
   "metadata": {},
   "outputs": [
    {
     "name": "stdout",
     "output_type": "stream",
     "text": [
      "Traitor: Alice\n",
      "Colonists: ['Bob', 'Charlie', 'Diana', 'Eve']\n",
      "\n",
      "Reward tracking initialized: True\n",
      "Ship milestones tracker: set()\n"
     ]
    }
   ],
   "source": [
    "# Initialize environment\n",
    "env = MaroonedEnv(seed=42)\n",
    "observations = env.reset()\n",
    "\n",
    "# Find roles\n",
    "traitor = None\n",
    "colonists = []\n",
    "for sailor_id, sailor in env.state.sailors.items():\n",
    "    if env.state.is_traitor(sailor_id):\n",
    "        traitor = sailor_id\n",
    "    else:\n",
    "        colonists.append(sailor_id)\n",
    "\n",
    "print(f\"Traitor: {traitor}\")\n",
    "print(f\"Colonists: {colonists}\")\n",
    "print(f\"\\nReward tracking initialized: {hasattr(env, 'action_rewards')}\")\n",
    "print(f\"Ship milestones tracker: {env.ship_milestones_reached}\")"
   ]
  },
  {
   "cell_type": "markdown",
   "id": "8c8c1356",
   "metadata": {},
   "source": [
    "## TEST 1: Colonist Gather Resource Reward"
   ]
  },
  {
   "cell_type": "code",
   "execution_count": 3,
   "id": "953b748a",
   "metadata": {},
   "outputs": [
    {
     "name": "stdout",
     "output_type": "stream",
     "text": [
      "Target: wood at (16, 16, <MapLevel.GROUND: 0>)\n",
      "Gathered: wood x1\n",
      "Reward signal set: True\n",
      "Reward received: 0.140\n",
      "Expected gather bonus: 0.1\n",
      "✅ PASS\n"
     ]
    }
   ],
   "source": [
    "colonist = colonists[0]\n",
    "sailor = env.state.sailors[colonist]\n",
    "\n",
    "# Find nearest resource (any level, but prefer same level)\n",
    "resources = []\n",
    "for rid, r in env.state.world_map.resources.items():\n",
    "    if not r.gathered and r.resource_type in [ResourceType.WOOD, ResourceType.METAL]:\n",
    "        # Calculate distance (prefer same level)\n",
    "        distance = r.position.distance_to(sailor.position)\n",
    "        if r.position.level != sailor.position.level:\n",
    "            distance += 100  # Penalty for different levels\n",
    "        resources.append((rid, r, distance))\n",
    "\n",
    "if not resources:\n",
    "    print(\"❌ FAIL: No resources found on map\")\n",
    "    print(\"This should not happen - check map generation\")\n",
    "else:\n",
    "    resources.sort(key=lambda x: x[2])\n",
    "    res_id, resource, _ = resources[0]\n",
    "    \n",
    "    print(f\"Target: {resource.resource_type.value} at {resource.position.to_tuple()}\")\n",
    "    \n",
    "    # Navigate to resource (with obstacle avoidance)\n",
    "    for attempt in range(50):\n",
    "        if sailor.position == resource.position:\n",
    "            break\n",
    "        \n",
    "        dx = resource.position.x - sailor.position.x\n",
    "        dy = resource.position.y - sailor.position.y\n",
    "        \n",
    "        if abs(dx) > abs(dy) and dx != 0:\n",
    "            action_type = ActionType.MOVE_EAST if dx > 0 else ActionType.MOVE_WEST\n",
    "        elif dy != 0:\n",
    "            action_type = ActionType.MOVE_SOUTH if dy > 0 else ActionType.MOVE_NORTH\n",
    "        else:\n",
    "            break\n",
    "        \n",
    "        action = Action(sailor_id=colonist, action_type=action_type)\n",
    "        obs, _, _, _, info = env.step({colonist: action})\n",
    "        \n",
    "        if not info[colonist].get('success'):\n",
    "            # Try perpendicular direction\n",
    "            if abs(dy) > abs(dx) and dy != 0:\n",
    "                action_type = ActionType.MOVE_SOUTH if dy > 0 else ActionType.MOVE_NORTH\n",
    "            elif dx != 0:\n",
    "                action_type = ActionType.MOVE_EAST if dx > 0 else ActionType.MOVE_WEST\n",
    "            else:\n",
    "                break\n",
    "            action = Action(sailor_id=colonist, action_type=action_type)\n",
    "            env.step({colonist: action})\n",
    "    \n",
    "    if sailor.position != resource.position:\n",
    "        print(f\"⚠️ Could not reach resource (stopped at {sailor.position.to_tuple()})\")\n",
    "    else:\n",
    "        # Gather resource\n",
    "        action = Action(sailor_id=colonist, action_type=ActionType.GATHER_RESOURCE, target_resource_id=res_id)\n",
    "        obs, rewards, done, truncated, info = env.step({colonist: action})\n",
    "        \n",
    "        print(f\"Gathered: {info[colonist].get('resource_type')} x{info[colonist].get('quantity')}\")\n",
    "        print(f\"Reward signal set: {env.action_rewards[colonist].get('gathered_resource')}\")\n",
    "        print(f\"Reward received: {rewards[colonist]:.3f}\")\n",
    "        print(f\"Expected gather bonus: {REWARD_COLONIST_GATHER_RESOURCE}\")\n",
    "        print(f\"✅ PASS\" if env.action_rewards[colonist].get('gathered_resource') else \"❌ FAIL\")"
   ]
  },
  {
   "cell_type": "markdown",
   "id": "486affdd",
   "metadata": {},
   "source": [
    "## TEST 2: Colonist Deposit Resource Reward"
   ]
  },
  {
   "cell_type": "code",
   "execution_count": 4,
   "id": "d95cdf76",
   "metadata": {},
   "outputs": [
    {
     "name": "stdout",
     "output_type": "stream",
     "text": [
      "Deposited: wood x0\n",
      "Reward signal set: True\n",
      "Reward received: 0.240\n",
      "Expected deposit bonus: 0.2\n",
      "✅ PASS\n"
     ]
    }
   ],
   "source": [
    "# Check if we have items to deposit\n",
    "has_items = any(item.quantity > 0 for item in sailor.backpack)\n",
    "\n",
    "if not has_items:\n",
    "    print(\"❌ FAIL: No items in backpack to deposit (gather test may have failed)\")\n",
    "else:\n",
    "    # Navigate to base camp\n",
    "    base_pos = Position(15, 15, MapLevel.GROUND)\n",
    "    for attempt in range(50):\n",
    "        if sailor.position == base_pos:\n",
    "            break\n",
    "        \n",
    "        dx = base_pos.x - sailor.position.x\n",
    "        dy = base_pos.y - sailor.position.y\n",
    "        \n",
    "        if abs(dx) > abs(dy) and dx != 0:\n",
    "            action_type = ActionType.MOVE_EAST if dx > 0 else ActionType.MOVE_WEST\n",
    "        elif dy != 0:\n",
    "            action_type = ActionType.MOVE_SOUTH if dy > 0 else ActionType.MOVE_NORTH\n",
    "        else:\n",
    "            break\n",
    "        \n",
    "        action = Action(sailor_id=colonist, action_type=action_type)\n",
    "        obs, _, _, _, info = env.step({colonist: action})\n",
    "        \n",
    "        if not info[colonist].get('success'):\n",
    "            # Try perpendicular\n",
    "            if abs(dy) > abs(dx) and dy != 0:\n",
    "                action_type = ActionType.MOVE_SOUTH if dy > 0 else ActionType.MOVE_NORTH\n",
    "            elif dx != 0:\n",
    "                action_type = ActionType.MOVE_EAST if dx > 0 else ActionType.MOVE_WEST\n",
    "            else:\n",
    "                break\n",
    "            action = Action(sailor_id=colonist, action_type=action_type)\n",
    "            env.step({colonist: action})\n",
    "    \n",
    "    # Deposit\n",
    "    item = next((i for i in sailor.backpack if i.quantity > 0), None)\n",
    "    if item:\n",
    "        action = Action(sailor_id=colonist, action_type=ActionType.DEPOSIT_ITEM, \n",
    "                       resource_type=item.resource_type, quantity=item.quantity)\n",
    "        obs, rewards, done, truncated, info = env.step({colonist: action})\n",
    "        \n",
    "        print(f\"Deposited: {item.resource_type.value} x{item.quantity}\")\n",
    "        print(f\"Reward signal set: {env.action_rewards[colonist].get('deposited_resource')}\")\n",
    "        print(f\"Reward received: {rewards[colonist]:.3f}\")\n",
    "        print(f\"Expected deposit bonus: {REWARD_COLONIST_DEPOSIT_RESOURCE}\")\n",
    "        print(f\"✅ PASS\" if env.action_rewards[colonist].get('deposited_resource') else \"❌ FAIL\")"
   ]
  },
  {
   "cell_type": "markdown",
   "id": "ee55c7b1",
   "metadata": {},
   "source": [
    "## TEST 3: Colonist Build Ship Reward"
   ]
  },
  {
   "cell_type": "code",
   "execution_count": 5,
   "id": "82112fba",
   "metadata": {},
   "outputs": [
    {
     "name": "stdout",
     "output_type": "stream",
     "text": [
      "Build success: True\n",
      "Component built: hull\n",
      "Ship progress: 30%\n",
      "Reward signal set: True\n",
      "Reward received: 5.540\n",
      "Expected build bonus: 0.5\n",
      "✅ PASS\n"
     ]
    }
   ],
   "source": [
    "# Add sufficient resources for building\n",
    "env.state.add_to_common_inventory(ResourceType.WOOD, 100)\n",
    "env.state.add_to_common_inventory(ResourceType.METAL, 50)\n",
    "\n",
    "# Build ship\n",
    "action = Action(sailor_id=colonist, action_type=ActionType.BUILD_SHIP)\n",
    "obs, rewards, done, truncated, info = env.step({colonist: action})\n",
    "\n",
    "print(f\"Build success: {info[colonist].get('success')}\")\n",
    "print(f\"Component built: {info[colonist].get('component')}\")\n",
    "print(f\"Ship progress: {env.state.ship_progress.total_percentage}%\")\n",
    "print(f\"Reward signal set: {env.action_rewards[colonist].get('built_ship')}\")\n",
    "print(f\"Reward received: {rewards[colonist]:.3f}\")\n",
    "print(f\"Expected build bonus: {REWARD_COLONIST_BUILD_CONTRIBUTE}\")\n",
    "print(f\"✅ PASS\" if env.action_rewards[colonist].get('built_ship') else \"❌ FAIL\")"
   ]
  },
  {
   "cell_type": "markdown",
   "id": "35abb595",
   "metadata": {},
   "source": [
    "## TEST 4: Ship Milestone Rewards (25%, 50%, 75%)"
   ]
  },
  {
   "cell_type": "code",
   "execution_count": 6,
   "id": "b24e342a",
   "metadata": {},
   "outputs": [
    {
     "name": "stdout",
     "output_type": "stream",
     "text": [
      "Milestone 50% reached! Reward: 10.540\n",
      "Milestone 75% reached! Reward: 15.540\n",
      "\n",
      "Milestones reached: [50, 75]\n",
      "Tracked milestones: [25, 50, 75]\n",
      "Final ship progress: 90%\n",
      "✅ PASS\n"
     ]
    }
   ],
   "source": [
    "# Build to 25% milestone\n",
    "env.state.add_to_common_inventory(ResourceType.WOOD, 200)\n",
    "env.state.add_to_common_inventory(ResourceType.METAL, 100)\n",
    "env.state.add_to_common_inventory(ResourceType.PLANT_FIBER, 100)\n",
    "\n",
    "milestones_hit = []\n",
    "for i in range(10):\n",
    "    prev_progress = env.state.ship_progress.total_percentage\n",
    "    action = Action(sailor_id=colonist, action_type=ActionType.BUILD_SHIP)\n",
    "    obs, rewards, done, truncated, info = env.step({colonist: action})\n",
    "    \n",
    "    if info[colonist].get('success'):\n",
    "        curr_progress = env.state.ship_progress.total_percentage\n",
    "        \n",
    "        # Check for milestone crossings\n",
    "        for milestone in [25, 50, 75]:\n",
    "            if prev_progress < milestone <= curr_progress and milestone not in milestones_hit:\n",
    "                milestones_hit.append(milestone)\n",
    "                print(f\"Milestone {milestone}% reached! Reward: {rewards[colonist]:.3f}\")\n",
    "\n",
    "print(f\"\\nMilestones reached: {sorted(milestones_hit)}\")\n",
    "print(f\"Tracked milestones: {sorted(env.ship_milestones_reached)}\")\n",
    "print(f\"Final ship progress: {env.state.ship_progress.total_percentage}%\")\n",
    "print(f\"✅ PASS\" if len(milestones_hit) > 0 else \"❌ FAIL\")"
   ]
  },
  {
   "cell_type": "markdown",
   "id": "1e853c01",
   "metadata": {},
   "source": [
    "## TEST 5: Traitor Sabotage Reward"
   ]
  },
  {
   "cell_type": "code",
   "execution_count": 7,
   "id": "c7c06886",
   "metadata": {},
   "outputs": [
    {
     "name": "stdout",
     "output_type": "stream",
     "text": [
      "Sabotage success: True\n",
      "Damage dealt: 34%\n",
      "Reward signal set: True\n",
      "Reward received: 1.990\n",
      "Expected sabotage bonus: 2.0\n",
      "✅ PASS\n"
     ]
    }
   ],
   "source": [
    "# Setup: Build a component to sabotage\n",
    "from models import ShipComponentProgress\n",
    "env.state.ship_progress.components[ShipComponent.HULL] = ShipComponentProgress(\n",
    "    component=ShipComponent.HULL, progress_percentage=30, completed=True\n",
    ")\n",
    "env.state.ship_progress.recalculate_total()\n",
    "prev_progress = env.state.ship_progress.total_percentage\n",
    "\n",
    "# Sabotage\n",
    "action = Action(sailor_id=traitor, action_type=ActionType.SABOTAGE_SHIP, \n",
    "               ship_component=ShipComponent.HULL)\n",
    "obs, rewards, done, truncated, info = env.step({traitor: action})\n",
    "\n",
    "print(f\"Sabotage success: {info[traitor].get('success')}\")\n",
    "print(f\"Damage dealt: {info[traitor].get('damage')}%\")\n",
    "print(f\"Reward signal set: {env.action_rewards[traitor].get('sabotaged')}\")\n",
    "print(f\"Reward received: {rewards[traitor]:.3f}\")\n",
    "print(f\"Expected sabotage bonus: {REWARD_TRAITOR_SABOTAGE_SUCCESS}\")\n",
    "print(f\"✅ PASS\" if env.action_rewards[traitor].get('sabotaged') else \"❌ FAIL\")"
   ]
  },
  {
   "cell_type": "markdown",
   "id": "a9799814",
   "metadata": {},
   "source": [
    "## TEST 6: Traitor Poison Kill Reward"
   ]
  },
  {
   "cell_type": "code",
   "execution_count": 8,
   "id": "9982465a",
   "metadata": {},
   "outputs": [
    {
     "name": "stdout",
     "output_type": "stream",
     "text": [
      "Victim poisoned on day 1\n",
      "Current day: 5\n",
      "Victim alive: False\n",
      "Reward signal set: None\n",
      "Expected poison kill bonus: 10.0\n",
      "✅ PASS\n"
     ]
    }
   ],
   "source": [
    "# Setup: Poison a colonist and advance to death\n",
    "victim = colonists[0]\n",
    "victim_sailor = env.state.sailors[victim]\n",
    "\n",
    "# Mark as poisoned (simulate poison offering)\n",
    "victim_sailor.poisoned_on_day = env.state.current_day\n",
    "victim_sailor.poisoned_by = traitor\n",
    "\n",
    "print(f\"Victim poisoned on day {env.state.current_day}\")\n",
    "\n",
    "# Advance to death day (3 days later)\n",
    "from config import POISON_DEATH_DAY\n",
    "for day in range(POISON_DEATH_DAY + 1):\n",
    "    for turn in range(100):\n",
    "        env.step({traitor: Action(sailor_id=traitor, action_type=ActionType.WAIT)})\n",
    "\n",
    "print(f\"Current day: {env.state.current_day}\")\n",
    "print(f\"Victim alive: {victim_sailor.alive}\")\n",
    "print(f\"Reward signal set: {env.action_rewards.get(traitor, {}).get('poison_kill')}\")\n",
    "print(f\"Expected poison kill bonus: {REWARD_TRAITOR_POISON_DEATH}\")\n",
    "print(f\"✅ PASS\" if not victim_sailor.alive else \"❌ FAIL\")"
   ]
  },
  {
   "cell_type": "markdown",
   "id": "81c0af38",
   "metadata": {},
   "source": [
    "## TEST 7: Voting Rewards (Correct vs Incorrect)"
   ]
  },
  {
   "cell_type": "code",
   "execution_count": 9,
   "id": "59ce8c28",
   "metadata": {},
   "outputs": [
    {
     "name": "stdout",
     "output_type": "stream",
     "text": [
      "Vote completed: None\n",
      "Was traitor: None\n",
      "Alice voted correctly: True\n",
      "Bob voted correctly: True\n",
      "✅ PASS\n"
     ]
    }
   ],
   "source": [
    "# Reset for voting test\n",
    "env = MaroonedEnv(seed=100)\n",
    "observations = env.reset()\n",
    "\n",
    "traitor = [sid for sid in env.state.sailors.keys() if env.state.is_traitor(sid)][0]\n",
    "colonists = [sid for sid in env.state.sailors.keys() if not env.state.is_traitor(sid)]\n",
    "\n",
    "# Advance to discussion phase\n",
    "while env.state.current_phase != 'discussion':\n",
    "    env.step({colonists[0]: Action(sailor_id=colonists[0], action_type=ActionType.WAIT)})\n",
    "\n",
    "# Call vote\n",
    "env.step({colonists[0]: Action(sailor_id=colonists[0], action_type=ActionType.CALL_VOTE)})\n",
    "\n",
    "# Everyone votes for traitor\n",
    "for sid in env.state.sailors.keys():\n",
    "    if env.state.sailors[sid].alive:\n",
    "        action = Action(sailor_id=sid, action_type=ActionType.VOTE, vote_target=traitor)\n",
    "        obs, rewards, done, truncated, info = env.step({sid: action})\n",
    "\n",
    "print(f\"Vote completed: {info[colonists[0]].get('eliminated')}\")\n",
    "print(f\"Was traitor: {info[colonists[0]].get('was_traitor')}\")\n",
    "\n",
    "# Check voting rewards\n",
    "for sid in colonists[:2]:\n",
    "    voted_correctly = env.action_rewards.get(sid, {}).get('voted_correctly', False)\n",
    "    print(f\"{sid} voted correctly: {voted_correctly}\")\n",
    "\n",
    "print(f\"✅ PASS\" if any(env.action_rewards.get(sid, {}).get('voted_correctly') for sid in colonists) else \"❌ FAIL\")"
   ]
  },
  {
   "cell_type": "markdown",
   "id": "6fe4d2d1",
   "metadata": {},
   "source": [
    "## TEST 8: Energy Management Rewards"
   ]
  },
  {
   "cell_type": "code",
   "execution_count": 10,
   "id": "e93332de",
   "metadata": {},
   "outputs": [
    {
     "name": "stdout",
     "output_type": "stream",
     "text": [
      "High energy (80) reward: 0.040\n",
      "Low energy (15) reward: -0.510\n",
      "Penalty difference: -0.550\n",
      "✅ PASS\n"
     ]
    }
   ],
   "source": [
    "env = MaroonedEnv(seed=200)\n",
    "observations = env.reset()\n",
    "colonist = [sid for sid in env.state.sailors.keys() if not env.state.is_traitor(sid)][0]\n",
    "sailor = env.state.sailors[colonist]\n",
    "\n",
    "# Test high energy (>50) - should get small bonus\n",
    "sailor.energy = 80\n",
    "action = Action(sailor_id=colonist, action_type=ActionType.WAIT)\n",
    "obs, rewards, done, truncated, info = env.step({colonist: action})\n",
    "high_energy_reward = rewards[colonist]\n",
    "\n",
    "# Test low energy (<20) - should get penalty\n",
    "sailor.energy = 15\n",
    "action = Action(sailor_id=colonist, action_type=ActionType.WAIT)\n",
    "obs, rewards, done, truncated, info = env.step({colonist: action})\n",
    "low_energy_reward = rewards[colonist]\n",
    "\n",
    "print(f\"High energy (80) reward: {high_energy_reward:.3f}\")\n",
    "print(f\"Low energy (15) reward: {low_energy_reward:.3f}\")\n",
    "print(f\"Penalty difference: {low_energy_reward - high_energy_reward:.3f}\")\n",
    "print(f\"✅ PASS\" if low_energy_reward < high_energy_reward else \"❌ FAIL\")"
   ]
  },
  {
   "cell_type": "markdown",
   "id": "009f80bd",
   "metadata": {},
   "source": [
    "## TEST 9: Ship Completion Win Reward"
   ]
  },
  {
   "cell_type": "code",
   "execution_count": 11,
   "id": "b75c3cde",
   "metadata": {},
   "outputs": [
    {
     "name": "stdout",
     "output_type": "stream",
     "text": [
      "Ship at 100%: 100%\n",
      "Game over: {'Alice': True, 'Bob': True, 'Charlie': True, 'Diana': True, 'Eve': True}\n",
      "Colonist reward: 330.040\n",
      "Expected bonus: 100.0\n",
      "✅ PASS\n"
     ]
    }
   ],
   "source": [
    "env = MaroonedEnv(seed=300)\n",
    "observations = env.reset()\n",
    "colonist = [sid for sid in env.state.sailors.keys() if not env.state.is_traitor(sid)][0]\n",
    "\n",
    "# Set ship to 100%\n",
    "env.state.ship_progress.total_percentage = 100\n",
    "env.state.game_over = True\n",
    "\n",
    "# Take step to trigger reward\n",
    "action = Action(sailor_id=colonist, action_type=ActionType.WAIT)\n",
    "obs, rewards, done, truncated, info = env.step({colonist: action})\n",
    "\n",
    "print(f\"Ship at 100%: {env.state.ship_progress.total_percentage}%\")\n",
    "print(f\"Game over: {done}\")\n",
    "print(f\"Colonist reward: {rewards[colonist]:.3f}\")\n",
    "from config import REWARD_COLONIST_SHIP_COMPLETE\n",
    "print(f\"Expected bonus: {REWARD_COLONIST_SHIP_COMPLETE}\")\n",
    "print(f\"✅ PASS\" if rewards[colonist] > 50 else \"❌ FAIL\")"
   ]
  },
  {
   "cell_type": "markdown",
   "id": "3436062a",
   "metadata": {},
   "source": [
    "## TEST 10: Traitor Victory (Time Expiry) Reward"
   ]
  },
  {
   "cell_type": "code",
   "execution_count": 12,
   "id": "33794dee",
   "metadata": {},
   "outputs": [
    {
     "name": "stdout",
     "output_type": "stream",
     "text": [
      "Day 100 reached: True\n",
      "Ship incomplete: 50%\n",
      "Game over: {'Alice': True, 'Bob': True, 'Charlie': True, 'Diana': True, 'Eve': True}\n",
      "Traitor reward: 74.990\n",
      "Expected bonus: 100.0\n",
      "✅ PASS\n"
     ]
    }
   ],
   "source": [
    "env = MaroonedEnv(seed=400)\n",
    "observations = env.reset()\n",
    "traitor = [sid for sid in env.state.sailors.keys() if env.state.is_traitor(sid)][0]\n",
    "\n",
    "# Set to day 100 with incomplete ship\n",
    "env.state.current_day = 100\n",
    "env.state.ship_progress.total_percentage = 50\n",
    "env.state.game_over = True\n",
    "\n",
    "# Take step to trigger reward\n",
    "action = Action(sailor_id=traitor, action_type=ActionType.WAIT)\n",
    "obs, rewards, done, truncated, info = env.step({traitor: action})\n",
    "\n",
    "print(f\"Day 100 reached: {env.state.current_day == 100}\")\n",
    "print(f\"Ship incomplete: {env.state.ship_progress.total_percentage}%\")\n",
    "print(f\"Game over: {done}\")\n",
    "print(f\"Traitor reward: {rewards[traitor]:.3f}\")\n",
    "from config import REWARD_TRAITOR_SHIP_INCOMPLETE\n",
    "print(f\"Expected bonus: {REWARD_TRAITOR_SHIP_INCOMPLETE}\")\n",
    "print(f\"✅ PASS\" if rewards[traitor] > 50 else \"❌ FAIL\")"
   ]
  },
  {
   "cell_type": "markdown",
   "id": "ca238121",
   "metadata": {},
   "source": [
    "## TEST 11: Comprehensive Reward Summary"
   ]
  },
  {
   "cell_type": "code",
   "execution_count": 13,
   "id": "56bbfa3b",
   "metadata": {},
   "outputs": [
    {
     "name": "stdout",
     "output_type": "stream",
     "text": [
      "\n",
      "============================================================\n",
      "PHASE 4 REWARD CONFIGURATION\n",
      "============================================================\n",
      "\n",
      "📊 COLONIST REWARDS:\n",
      "  Gather resource:        +0.1\n",
      "  Deposit resource:       +0.2\n",
      "  Build ship:             +0.5\n",
      "  Ship 100%:              +100.0\n",
      "  Traitor eliminated:     +100.0\n",
      "  Death:                  -50.0\n",
      "\n",
      "🏴‍☠️ TRAITOR REWARDS:\n",
      "  Sabotage:               +2.0\n",
      "  Poison kill:            +10.0\n",
      "  Ship incomplete:        +100.0\n",
      "\n",
      "🎯 MILESTONE REWARDS:\n",
      "  25% ship progress:      +5.0\n",
      "  50% ship progress:      +10.0\n",
      "  75% ship progress:      +15.0\n",
      "\n",
      "⏱️  BASE PENALTY:\n",
      "  Per turn:               -0.01\n",
      "\n",
      "============================================================\n",
      "✅ ALL PHASE 4 REWARD SIGNALS CONFIGURED\n",
      "============================================================\n"
     ]
    }
   ],
   "source": [
    "from config import (\n",
    "    REWARD_BASE_TURN_PENALTY,\n",
    "    REWARD_COLONIST_GATHER_RESOURCE,\n",
    "    REWARD_COLONIST_DEPOSIT_RESOURCE,\n",
    "    REWARD_COLONIST_BUILD_CONTRIBUTE,\n",
    "    REWARD_COLONIST_SHIP_COMPLETE,\n",
    "    REWARD_COLONIST_TRAITOR_ELIMINATED,\n",
    "    REWARD_COLONIST_DEATH,\n",
    "    REWARD_TRAITOR_SABOTAGE_SUCCESS,\n",
    "    REWARD_TRAITOR_POISON_DEATH,\n",
    "    REWARD_TRAITOR_SHIP_INCOMPLETE,\n",
    "    REWARD_SHIP_MILESTONE_25,\n",
    "    REWARD_SHIP_MILESTONE_50,\n",
    "    REWARD_SHIP_MILESTONE_75,\n",
    ")\n",
    "\n",
    "print(\"\\n\" + \"=\"*60)\n",
    "print(\"PHASE 4 REWARD CONFIGURATION\")\n",
    "print(\"=\"*60)\n",
    "\n",
    "print(\"\\n📊 COLONIST REWARDS:\")\n",
    "print(f\"  Gather resource:        +{REWARD_COLONIST_GATHER_RESOURCE}\")\n",
    "print(f\"  Deposit resource:       +{REWARD_COLONIST_DEPOSIT_RESOURCE}\")\n",
    "print(f\"  Build ship:             +{REWARD_COLONIST_BUILD_CONTRIBUTE}\")\n",
    "print(f\"  Ship 100%:              +{REWARD_COLONIST_SHIP_COMPLETE}\")\n",
    "print(f\"  Traitor eliminated:     +{REWARD_COLONIST_TRAITOR_ELIMINATED}\")\n",
    "print(f\"  Death:                  {REWARD_COLONIST_DEATH}\")\n",
    "\n",
    "print(\"\\n🏴‍☠️ TRAITOR REWARDS:\")\n",
    "print(f\"  Sabotage:               +{REWARD_TRAITOR_SABOTAGE_SUCCESS}\")\n",
    "print(f\"  Poison kill:            +{REWARD_TRAITOR_POISON_DEATH}\")\n",
    "print(f\"  Ship incomplete:        +{REWARD_TRAITOR_SHIP_INCOMPLETE}\")\n",
    "\n",
    "print(\"\\n🎯 MILESTONE REWARDS:\")\n",
    "print(f\"  25% ship progress:      +{REWARD_SHIP_MILESTONE_25}\")\n",
    "print(f\"  50% ship progress:      +{REWARD_SHIP_MILESTONE_50}\")\n",
    "print(f\"  75% ship progress:      +{REWARD_SHIP_MILESTONE_75}\")\n",
    "\n",
    "print(\"\\n⏱️  BASE PENALTY:\")\n",
    "print(f\"  Per turn:               {REWARD_BASE_TURN_PENALTY}\")\n",
    "\n",
    "print(\"\\n\" + \"=\"*60)\n",
    "print(\"✅ ALL PHASE 4 REWARD SIGNALS CONFIGURED\")\n",
    "print(\"=\"*60)"
   ]
  },
  {
   "cell_type": "code",
   "execution_count": null,
   "id": "8cefd631",
   "metadata": {},
   "outputs": [],
   "source": []
  }
 ],
 "metadata": {
  "kernelspec": {
   "display_name": ".venv",
   "language": "python",
   "name": "python3"
  },
  "language_info": {
   "codemirror_mode": {
    "name": "ipython",
    "version": 3
   },
   "file_extension": ".py",
   "mimetype": "text/x-python",
   "name": "python",
   "nbconvert_exporter": "python",
   "pygments_lexer": "ipython3",
   "version": "3.12.11"
  }
 },
 "nbformat": 4,
 "nbformat_minor": 5
}
