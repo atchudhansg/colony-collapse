{
 "cells": [
  {
   "cell_type": "markdown",
   "id": "2584506c",
   "metadata": {},
   "source": [
    "# Ship Building Tests - Materials & Construction"
   ]
  },
  {
   "cell_type": "code",
   "execution_count": 1,
   "id": "34a2565f",
   "metadata": {},
   "outputs": [
    {
     "name": "stdout",
     "output_type": "stream",
     "text": [
      "✅ Modules loaded fresh (cache cleared)\n"
     ]
    }
   ],
   "source": [
    "import sys\n",
    "import importlib\n",
    "\n",
    "# Clear any cached modules\n",
    "modules_to_clear = [m for m in list(sys.modules.keys()) if 'marooned' in m or m in ['environment', 'config', 'models', 'game_state', 'view_map']]\n",
    "for module in modules_to_clear:\n",
    "    if module in sys.modules:\n",
    "        del sys.modules[module]\n",
    "\n",
    "# Now do fresh imports\n",
    "sys.path.insert(0, '../marooned_env')\n",
    "\n",
    "from environment import MaroonedEnv\n",
    "from config import (\n",
    "    ActionType, ResourceType, MapLevel, ShipComponent,\n",
    "    MAX_ENERGY, ENERGY_COST_WALK, ENERGY_COST_GATHER,\n",
    "    ENERGY_COST_CLIMB_UP, ENERGY_COST_CLIMB_DOWN,\n",
    "    BASE_CAMP_POSITION\n",
    ")\n",
    "from models import Action, Position\n",
    "import random\n",
    "\n",
    "print(\"✅ Modules loaded fresh (cache cleared)\")"
   ]
  },
  {
   "cell_type": "code",
   "execution_count": 2,
   "id": "3e37252b",
   "metadata": {},
   "outputs": [
    {
     "name": "stdout",
     "output_type": "stream",
     "text": [
      "🏝️ Environment initialized!\n",
      "Starting position: (15, 15, <MapLevel.GROUND: 0>)\n",
      "\n",
      "Ship components to build: ['hull', 'mast', 'sail', 'rudder', 'supplies']\n"
     ]
    }
   ],
   "source": [
    "# Initialize environment\n",
    "env = MaroonedEnv(seed=42)\n",
    "observations = env.reset()\n",
    "PLAYER_ID = \"Alice\"\n",
    "\n",
    "print(\"🏝️ Environment initialized!\")\n",
    "print(f\"Starting position: {BASE_CAMP_POSITION}\")\n",
    "print(f\"\\nShip components to build: {[comp.value for comp in ShipComponent]}\")"
   ]
  },
  {
   "cell_type": "markdown",
   "id": "421b9767",
   "metadata": {},
   "source": [
    "## Check Initial Ship Status"
   ]
  },
  {
   "cell_type": "markdown",
   "id": "daf715b8",
   "metadata": {},
   "source": [
    "## Ship Component Requirements\n",
    "\n",
    "Let's see what resources we need to build the ship!"
   ]
  },
  {
   "cell_type": "code",
   "execution_count": 3,
   "id": "914837bd",
   "metadata": {},
   "outputs": [
    {
     "name": "stdout",
     "output_type": "stream",
     "text": [
      "Ship Component Requirements:\n",
      "======================================================================\n",
      "\n",
      "HULL:\n",
      "  Percentage of ship: 30%\n",
      "  Required resources:\n",
      "    - wood: 50\n",
      "  Prerequisite: None (can build anytime)\n",
      "\n",
      "MAST:\n",
      "  Percentage of ship: 20%\n",
      "  Required resources:\n",
      "    - wood: 30\n",
      "    - metal: 20\n",
      "  Prerequisite: hull must be built first\n",
      "\n",
      "SAIL:\n",
      "  Percentage of ship: 25%\n",
      "  Required resources:\n",
      "    - plant_fiber: 40\n",
      "  Prerequisite: mast must be built first\n",
      "\n",
      "RUDDER:\n",
      "  Percentage of ship: 15%\n",
      "  Required resources:\n",
      "    - metal: 15\n",
      "    - wood: 10\n",
      "  Prerequisite: hull must be built first\n",
      "\n",
      "SUPPLIES:\n",
      "  Percentage of ship: 10%\n",
      "  Required resources:\n",
      "    - apple: 10\n",
      "    - berry: 10\n",
      "  Prerequisite: None (can build anytime)\n",
      "\n",
      "======================================================================\n",
      "NOTE: We need to collect MANY resources to build the ship!\n",
      "For a minimal ship, we need at least:\n",
      "  - 50+ WOOD (for HULL)\n",
      "  - 20+ METAL (for MAST)\n",
      "  - 40+ PLANT_FIBER (for SAIL)\n",
      "======================================================================\n"
     ]
    }
   ],
   "source": [
    "# Import ship components config\n",
    "from config import SHIP_COMPONENTS\n",
    "\n",
    "print(\"Ship Component Requirements:\")\n",
    "print(\"=\" * 70)\n",
    "for component, details in SHIP_COMPONENTS.items():\n",
    "    print(f\"\\n{component.value.upper()}:\")\n",
    "    print(f\"  Percentage of ship: {details['percentage']}%\")\n",
    "    print(f\"  Required resources:\")\n",
    "    for resource_type, quantity in details['required_resources'].items():\n",
    "        print(f\"    - {resource_type.value}: {quantity}\")\n",
    "    if details['prerequisite']:\n",
    "        print(f\"  Prerequisite: {details['prerequisite'].value} must be built first\")\n",
    "    else:\n",
    "        print(f\"  Prerequisite: None (can build anytime)\")\n",
    "\n",
    "print(\"\\n\" + \"=\" * 70)\n",
    "print(\"NOTE: We need to collect MANY resources to build the ship!\")\n",
    "print(\"For a minimal ship, we need at least:\")\n",
    "print(\"  - 50+ WOOD (for HULL)\")\n",
    "print(\"  - 20+ METAL (for MAST)\")\n",
    "print(\"  - 40+ PLANT_FIBER (for SAIL)\")\n",
    "print(\"=\" * 70)"
   ]
  },
  {
   "cell_type": "code",
   "execution_count": 4,
   "id": "d152320d",
   "metadata": {},
   "outputs": [
    {
     "name": "stdout",
     "output_type": "stream",
     "text": [
      "Initial Ship Building Status:\n",
      "==================================================\n",
      "hull:\n",
      "  Progress: 0%\n",
      "  Complete: False\n",
      "  Resources contributed: {}\n",
      "  Still needed: {<ResourceType.WOOD: 'wood'>: 50}\n",
      "\n",
      "mast:\n",
      "  Progress: 0%\n",
      "  Complete: False\n",
      "  Resources contributed: {}\n",
      "  Still needed: {<ResourceType.WOOD: 'wood'>: 30, <ResourceType.METAL: 'metal'>: 20}\n",
      "\n",
      "sail:\n",
      "  Progress: 0%\n",
      "  Complete: False\n",
      "  Resources contributed: {}\n",
      "  Still needed: {<ResourceType.PLANT_FIBER: 'plant_fiber'>: 40}\n",
      "\n",
      "rudder:\n",
      "  Progress: 0%\n",
      "  Complete: False\n",
      "  Resources contributed: {}\n",
      "  Still needed: {<ResourceType.METAL: 'metal'>: 15, <ResourceType.WOOD: 'wood'>: 10}\n",
      "\n",
      "supplies:\n",
      "  Progress: 0%\n",
      "  Complete: False\n",
      "  Resources contributed: {}\n",
      "  Still needed: {<ResourceType.APPLE: 'apple'>: 10, <ResourceType.BERRY: 'berry'>: 10}\n",
      "\n",
      "Ship Complete: False\n"
     ]
    }
   ],
   "source": [
    "# Display initial ship building progress\n",
    "print(\"Initial Ship Building Status:\")\n",
    "print(\"=\" * 50)\n",
    "for component in ShipComponent:\n",
    "    comp_progress = env.state.ship_progress.components[component]\n",
    "    print(f\"{component.value}:\")\n",
    "    print(f\"  Progress: {comp_progress.progress_percentage}%\")\n",
    "    print(f\"  Complete: {comp_progress.completed}\")\n",
    "    print(f\"  Resources contributed: {comp_progress.resources_contributed}\")\n",
    "    remaining = comp_progress.get_remaining_resources()\n",
    "    if remaining:\n",
    "        print(f\"  Still needed: {remaining}\")\n",
    "    print()\n",
    "\n",
    "print(f\"Ship Complete: {env.state.ship_progress.is_complete()}\")"
   ]
  },
  {
   "cell_type": "markdown",
   "id": "311978a6",
   "metadata": {},
   "source": [
    "## TEST 1: Collect WOOD from GROUND"
   ]
  },
  {
   "cell_type": "markdown",
   "id": "88611547",
   "metadata": {},
   "source": [
    "## Helper Function for Collecting Multiple Resources"
   ]
  },
  {
   "cell_type": "code",
   "execution_count": 5,
   "id": "5b5e8f41",
   "metadata": {},
   "outputs": [
    {
     "name": "stdout",
     "output_type": "stream",
     "text": [
      "✅ Helper function defined!\n"
     ]
    }
   ],
   "source": [
    "def collect_resources(env, sailor_id, resource_type, target_count, level=MapLevel.GROUND, max_attempts=200):\n",
    "    \"\"\"\n",
    "    Collect multiple resources of a specific type.\n",
    "    \n",
    "    Args:\n",
    "        env: The environment\n",
    "        sailor_id: The ID of the sailor collecting\n",
    "        resource_type: The ResourceType to collect\n",
    "        target_count: How many to collect\n",
    "        level: Which map level to search on\n",
    "        max_attempts: Maximum movement attempts\n",
    "    \n",
    "    Returns:\n",
    "        Number of resources successfully collected\n",
    "    \"\"\"\n",
    "    sailor = env.state.sailors[sailor_id]\n",
    "    collected = 0\n",
    "    \n",
    "    print(f\"Attempting to collect {target_count} {resource_type.value} from {level.value}...\")\n",
    "    \n",
    "    while collected < target_count:\n",
    "        # Find available resources\n",
    "        available_resources = []\n",
    "        for res_id, resource in env.state.world_map.resources.items():\n",
    "            if (resource.position.level == level and \n",
    "                resource.resource_type == resource_type and \n",
    "                not resource.gathered):\n",
    "                distance = resource.position.distance_to(sailor.position)\n",
    "                available_resources.append((resource, distance, res_id))\n",
    "        \n",
    "        if not available_resources:\n",
    "            print(f\"  No more {resource_type.value} available on {level.value}\")\n",
    "            break\n",
    "        \n",
    "        # Sort by distance and target closest\n",
    "        available_resources.sort(key=lambda x: x[1])\n",
    "        target_resource, _, target_res_id = available_resources[0]\n",
    "        target_pos = target_resource.position\n",
    "        \n",
    "        # Navigate to resource\n",
    "        moves = 0\n",
    "        while sailor.position != target_pos and moves < max_attempts:\n",
    "            dx = target_pos.x - sailor.position.x\n",
    "            dy = target_pos.y - sailor.position.y\n",
    "            \n",
    "            if abs(dx) > abs(dy) and dx != 0:\n",
    "                action_type = ActionType.MOVE_EAST if dx > 0 else ActionType.MOVE_WEST\n",
    "            elif dy != 0:\n",
    "                action_type = ActionType.MOVE_SOUTH if dy > 0 else ActionType.MOVE_NORTH\n",
    "            else:\n",
    "                break\n",
    "            \n",
    "            action = Action(sailor_id=sailor_id, action_type=action_type)\n",
    "            obs, _, _, _, info = env.step({sailor_id: action})\n",
    "            \n",
    "            if not info[sailor_id].get('success'):\n",
    "                # Try alternate direction\n",
    "                if abs(dy) > abs(dx) and dy != 0:\n",
    "                    action_type = ActionType.MOVE_SOUTH if dy > 0 else ActionType.MOVE_NORTH\n",
    "                elif dx != 0:\n",
    "                    action_type = ActionType.MOVE_EAST if dx > 0 else ActionType.MOVE_WEST\n",
    "                else:\n",
    "                    break\n",
    "                action = Action(sailor_id=sailor_id, action_type=action_type)\n",
    "                env.step({sailor_id: action})\n",
    "            \n",
    "            moves += 1\n",
    "        \n",
    "        # Gather the resource\n",
    "        if sailor.position == target_pos:\n",
    "            action = Action(\n",
    "                sailor_id=sailor_id,\n",
    "                action_type=ActionType.GATHER_RESOURCE,\n",
    "                target_resource_id=target_res_id\n",
    "            )\n",
    "            obs, _, _, _, info = env.step({sailor_id: action})\n",
    "            if info[sailor_id].get('success'):\n",
    "                collected += 1\n",
    "                print(f\"  Collected {collected}/{target_count} {resource_type.value}\")\n",
    "            else:\n",
    "                print(f\"  Failed to gather: {info[sailor_id].get('reason')}\")\n",
    "                break\n",
    "        else:\n",
    "            print(f\"  Failed to reach resource at {target_pos.to_tuple()}\")\n",
    "            break\n",
    "    \n",
    "    print(f\"✅ Collected {collected} {resource_type.value} total\")\n",
    "    return collected\n",
    "\n",
    "print(\"✅ Helper function defined!\")"
   ]
  },
  {
   "cell_type": "code",
   "execution_count": 6,
   "id": "11a4e532",
   "metadata": {},
   "outputs": [
    {
     "name": "stdout",
     "output_type": "stream",
     "text": [
      "Attempting to collect 50 wood from 0...\n",
      "  Collected 1/50 wood\n",
      "  Collected 2/50 wood\n",
      "  Collected 3/50 wood\n",
      "  Collected 4/50 wood\n",
      "  Collected 5/50 wood\n",
      "  Collected 6/50 wood\n",
      "  Collected 7/50 wood\n",
      "  Collected 8/50 wood\n",
      "  Collected 9/50 wood\n",
      "  Collected 10/50 wood\n",
      "  Collected 11/50 wood\n",
      "  Collected 12/50 wood\n",
      "  Collected 13/50 wood\n",
      "  Collected 14/50 wood\n",
      "  Collected 15/50 wood\n",
      "  Collected 16/50 wood\n",
      "  Collected 17/50 wood\n",
      "  Collected 18/50 wood\n",
      "  Collected 19/50 wood\n",
      "  Failed to gather: Not enough energy\n",
      "✅ Collected 19 wood total\n",
      "\n",
      "Backpack after collecting WOOD:\n",
      "  wood: 19\n"
     ]
    }
   ],
   "source": [
    "# Collect 50 WOOD for the HULL\n",
    "sailor = env.state.sailors[PLAYER_ID]\n",
    "wood_collected = collect_resources(env, PLAYER_ID, ResourceType.WOOD, target_count=50, level=MapLevel.GROUND)\n",
    "\n",
    "# Check backpack\n",
    "print(f\"\\nBackpack after collecting WOOD:\")\n",
    "for item in sailor.backpack:\n",
    "    if item.quantity > 0:\n",
    "        print(f\"  {item.resource_type.value}: {item.quantity}\")"
   ]
  },
  {
   "cell_type": "markdown",
   "id": "a818307e",
   "metadata": {},
   "source": [
    "## TEST 2: Collect METAL from GROUND"
   ]
  },
  {
   "cell_type": "code",
   "execution_count": 7,
   "id": "b2863e81",
   "metadata": {},
   "outputs": [
    {
     "name": "stdout",
     "output_type": "stream",
     "text": [
      "Attempting to collect 20 metal from 0...\n",
      "  Failed to reach resource at (2, 20, <MapLevel.GROUND: 0>)\n",
      "✅ Collected 0 metal total\n",
      "\n",
      "Backpack after collecting METAL:\n",
      "  wood: 19\n"
     ]
    }
   ],
   "source": [
    "# Collect 20 METAL for the MAST\n",
    "sailor = env.state.sailors[PLAYER_ID]\n",
    "metal_collected = collect_resources(env, PLAYER_ID, ResourceType.METAL, target_count=20, level=MapLevel.GROUND)\n",
    "\n",
    "# Check backpack\n",
    "print(f\"\\nBackpack after collecting METAL:\")\n",
    "for item in sailor.backpack:\n",
    "    if item.quantity > 0:\n",
    "        print(f\"  {item.resource_type.value}: {item.quantity}\")"
   ]
  },
  {
   "cell_type": "markdown",
   "id": "0bc3d865",
   "metadata": {},
   "source": [
    "## TEST 3: Collect PLANT_FIBER from GROUND"
   ]
  },
  {
   "cell_type": "code",
   "execution_count": 8,
   "id": "05577c42",
   "metadata": {},
   "outputs": [
    {
     "name": "stdout",
     "output_type": "stream",
     "text": [
      "Attempting to collect 40 plant_fiber from 0...\n",
      "  Failed to reach resource at (4, 21, <MapLevel.GROUND: 0>)\n",
      "✅ Collected 0 plant_fiber total\n",
      "\n",
      "Backpack after collecting PLANT_FIBER:\n",
      "  wood: 19\n"
     ]
    }
   ],
   "source": [
    "# Collect 40 PLANT_FIBER for the SAIL\n",
    "sailor = env.state.sailors[PLAYER_ID]\n",
    "plant_fiber_collected = collect_resources(env, PLAYER_ID, ResourceType.PLANT_FIBER, target_count=40, level=MapLevel.GROUND)\n",
    "\n",
    "# Check backpack\n",
    "print(f\"\\nBackpack after collecting PLANT_FIBER:\")\n",
    "for item in sailor.backpack:\n",
    "    if item.quantity > 0:\n",
    "        print(f\"  {item.resource_type.value}: {item.quantity}\")"
   ]
  },
  {
   "cell_type": "code",
   "execution_count": 9,
   "id": "48c7fef3",
   "metadata": {},
   "outputs": [
    {
     "name": "stdout",
     "output_type": "stream",
     "text": [
      "✅ Climbed back to GROUND: (1, 18, <MapLevel.GROUND: 0>)\n"
     ]
    }
   ],
   "source": [
    "# Return to GROUND from MOUNTAIN\n",
    "sailor = env.state.sailors[PLAYER_ID]\n",
    "stairs = None\n",
    "for pos1, pos2 in env.state.world_map.level_transitions:\n",
    "    if pos1.level == MapLevel.MOUNTAIN:\n",
    "        stairs = pos1\n",
    "        break\n",
    "    elif pos2.level == MapLevel.MOUNTAIN:\n",
    "        stairs = pos2\n",
    "        break\n",
    "\n",
    "if stairs:\n",
    "    for attempt in range(20):\n",
    "        if sailor.position == stairs:\n",
    "            break\n",
    "        dx = stairs.x - sailor.position.x\n",
    "        dy = stairs.y - sailor.position.y\n",
    "        \n",
    "        if abs(dx) > abs(dy) and dx != 0:\n",
    "            action_type = ActionType.MOVE_EAST if dx > 0 else ActionType.MOVE_WEST\n",
    "        elif dy != 0:\n",
    "            action_type = ActionType.MOVE_SOUTH if dy > 0 else ActionType.MOVE_NORTH\n",
    "        else:\n",
    "            break\n",
    "        \n",
    "        action = Action(sailor_id=PLAYER_ID, action_type=action_type)\n",
    "        obs, _, _, _, info = env.step({PLAYER_ID: action})\n",
    "        \n",
    "        if not info[PLAYER_ID].get('success'):\n",
    "            if abs(dy) > abs(dx) and dy != 0:\n",
    "                action_type = ActionType.MOVE_SOUTH if dy > 0 else ActionType.MOVE_NORTH\n",
    "            elif dx != 0:\n",
    "                action_type = ActionType.MOVE_EAST if dx > 0 else ActionType.MOVE_WEST\n",
    "            else:\n",
    "                break\n",
    "            action = Action(sailor_id=PLAYER_ID, action_type=action_type)\n",
    "            env.step({PLAYER_ID: action})\n",
    "    \n",
    "    # Climb down\n",
    "    action = Action(sailor_id=PLAYER_ID, action_type=ActionType.CLIMB_DOWN)\n",
    "    obs, _, _, _, info = env.step({PLAYER_ID: action})\n",
    "    print(f\"✅ Climbed back to GROUND: {sailor.position.to_tuple()}\")"
   ]
  },
  {
   "cell_type": "markdown",
   "id": "4602eef8",
   "metadata": {},
   "source": [
    "## TEST 4: Return to Base and Deposit Materials"
   ]
  },
  {
   "cell_type": "code",
   "execution_count": 10,
   "id": "11d262d6",
   "metadata": {},
   "outputs": [
    {
     "name": "stdout",
     "output_type": "stream",
     "text": [
      "Navigating from (1, 18, <MapLevel.GROUND: 0>) to base camp (15, 15, <MapLevel.GROUND: 0>)\n",
      "✅ Reached base camp at (1, 18, <MapLevel.GROUND: 0>)\n",
      "\n",
      "Current backpack:\n",
      "  wood: 19\n"
     ]
    }
   ],
   "source": [
    "# Navigate back to base camp\n",
    "sailor = env.state.sailors[PLAYER_ID]\n",
    "base_pos = Position(*BASE_CAMP_POSITION)\n",
    "\n",
    "print(f\"Navigating from {sailor.position.to_tuple()} to base camp {base_pos.to_tuple()}\")\n",
    "\n",
    "for attempt in range(50):\n",
    "    if sailor.position == base_pos:\n",
    "        break\n",
    "    dx = base_pos.x - sailor.position.x\n",
    "    dy = base_pos.y - sailor.position.y\n",
    "    \n",
    "    if abs(dx) > abs(dy) and dx != 0:\n",
    "        action_type = ActionType.MOVE_EAST if dx > 0 else ActionType.MOVE_WEST\n",
    "    elif dy != 0:\n",
    "        action_type = ActionType.MOVE_SOUTH if dy > 0 else ActionType.MOVE_NORTH\n",
    "    else:\n",
    "        break\n",
    "    \n",
    "    action = Action(sailor_id=PLAYER_ID, action_type=action_type)\n",
    "    obs, _, _, _, info = env.step({PLAYER_ID: action})\n",
    "    \n",
    "    if not info[PLAYER_ID].get('success'):\n",
    "        if abs(dy) > abs(dx) and dy != 0:\n",
    "            action_type = ActionType.MOVE_SOUTH if dy > 0 else ActionType.MOVE_NORTH\n",
    "        elif dx != 0:\n",
    "            action_type = ActionType.MOVE_EAST if dx > 0 else ActionType.MOVE_WEST\n",
    "        else:\n",
    "            break\n",
    "        action = Action(sailor_id=PLAYER_ID, action_type=action_type)\n",
    "        env.step({PLAYER_ID: action})\n",
    "\n",
    "print(f\"✅ Reached base camp at {sailor.position.to_tuple()}\")\n",
    "\n",
    "# Show current backpack\n",
    "print(f\"\\nCurrent backpack:\")\n",
    "for item in sailor.backpack:\n",
    "    print(f\"  {item.resource_type.value}: {item.quantity}\")"
   ]
  },
  {
   "cell_type": "code",
   "execution_count": 11,
   "id": "9bb55d85",
   "metadata": {},
   "outputs": [
    {
     "name": "stdout",
     "output_type": "stream",
     "text": [
      "Depositing materials to common inventory...\n",
      "Depositing wood (quantity: 19)\n",
      "  Result: {'success': False, 'reason': 'Sailor is dead', 'alive': False, 'is_traitor': True}\n",
      "\n",
      "Common inventory after deposit:\n",
      "\n",
      "Backpack after deposit:\n",
      "  wood: 19\n"
     ]
    }
   ],
   "source": [
    "# Deposit materials to common inventory\n",
    "sailor = env.state.sailors[PLAYER_ID]\n",
    "\n",
    "print(\"Depositing materials to common inventory...\")\n",
    "\n",
    "# Deposit each resource type separately\n",
    "for item in sailor.backpack:\n",
    "    if item.quantity > 0:\n",
    "        print(f\"Depositing {item.resource_type.value} (quantity: {item.quantity})\")\n",
    "        action = Action(\n",
    "            sailor_id=PLAYER_ID,\n",
    "            action_type=ActionType.DEPOSIT_ITEM,\n",
    "            resource_type=item.resource_type,\n",
    "            quantity=item.quantity\n",
    "        )\n",
    "        obs, _, _, _, info = env.step({PLAYER_ID: action})\n",
    "        print(f\"  Result: {info[PLAYER_ID]}\")\n",
    "\n",
    "# Check common inventory\n",
    "print(f\"\\nCommon inventory after deposit:\")\n",
    "for item in env.state.common_inventory:\n",
    "    print(f\"  {item.resource_type.value}: {item.quantity}\")\n",
    "\n",
    "# Check backpack after deposit\n",
    "print(f\"\\nBackpack after deposit:\")\n",
    "for item in sailor.backpack:\n",
    "    if item.quantity > 0:\n",
    "        print(f\"  {item.resource_type.value}: {item.quantity}\")\n",
    "if not any(item.quantity > 0 for item in sailor.backpack):\n",
    "    print(\"  (empty)\")"
   ]
  },
  {
   "cell_type": "markdown",
   "id": "d565f23e",
   "metadata": {},
   "source": [
    "## TEST 5: Build Ship Component"
   ]
  },
  {
   "cell_type": "code",
   "execution_count": 12,
   "id": "aec7f357",
   "metadata": {},
   "outputs": [
    {
     "name": "stdout",
     "output_type": "stream",
     "text": [
      "Before building:\n",
      "HULL progress: 0%\n",
      "HULL complete: False\n",
      "Resources contributed: {}\n",
      "Still needed: {<ResourceType.WOOD: 'wood'>: 50}\n",
      "\n",
      "Attempting to build HULL...\n",
      "Build result: {'success': False, 'reason': 'Sailor is dead', 'alive': False, 'is_traitor': True}\n",
      "\n",
      "After building:\n",
      "HULL progress: 0%\n",
      "HULL complete: False\n",
      "Resources contributed: {}\n",
      "Still needed: {<ResourceType.WOOD: 'wood'>: 50}\n"
     ]
    }
   ],
   "source": [
    "# Try to build a ship component (e.g., HULL)\n",
    "sailor = env.state.sailors[PLAYER_ID]\n",
    "\n",
    "print(\"Before building:\")\n",
    "hull_progress = env.state.ship_progress.components[ShipComponent.HULL]\n",
    "print(f\"HULL progress: {hull_progress.progress_percentage}%\")\n",
    "print(f\"HULL complete: {hull_progress.completed}\")\n",
    "print(f\"Resources contributed: {hull_progress.resources_contributed}\")\n",
    "remaining = hull_progress.get_remaining_resources()\n",
    "if remaining:\n",
    "    print(f\"Still needed: {remaining}\")\n",
    "\n",
    "print(f\"\\nAttempting to build HULL...\")\n",
    "action = Action(\n",
    "    sailor_id=PLAYER_ID,\n",
    "    action_type=ActionType.BUILD_SHIP,\n",
    "    ship_component=ShipComponent.HULL\n",
    ")\n",
    "obs, _, _, _, info = env.step({PLAYER_ID: action})\n",
    "print(f\"Build result: {info[PLAYER_ID]}\")\n",
    "\n",
    "print(\"\\nAfter building:\")\n",
    "hull_progress = env.state.ship_progress.components[ShipComponent.HULL]\n",
    "print(f\"HULL progress: {hull_progress.progress_percentage}%\")\n",
    "print(f\"HULL complete: {hull_progress.completed}\")\n",
    "print(f\"Resources contributed: {hull_progress.resources_contributed}\")\n",
    "remaining = hull_progress.get_remaining_resources()\n",
    "if remaining:\n",
    "    print(f\"Still needed: {remaining}\")"
   ]
  },
  {
   "cell_type": "markdown",
   "id": "1f416309",
   "metadata": {},
   "source": [
    "## Final Ship Status"
   ]
  },
  {
   "cell_type": "code",
   "execution_count": 13,
   "id": "958ee985",
   "metadata": {},
   "outputs": [
    {
     "name": "stdout",
     "output_type": "stream",
     "text": [
      "Final Ship Building Status:\n",
      "==================================================\n",
      "hull:\n",
      "  Progress: 0%\n",
      "  Complete: False\n",
      "  Resources contributed: {}\n",
      "  Still needed: {<ResourceType.WOOD: 'wood'>: 50}\n",
      "\n",
      "mast:\n",
      "  Progress: 0%\n",
      "  Complete: False\n",
      "  Resources contributed: {}\n",
      "  Still needed: {<ResourceType.WOOD: 'wood'>: 30, <ResourceType.METAL: 'metal'>: 20}\n",
      "\n",
      "sail:\n",
      "  Progress: 0%\n",
      "  Complete: False\n",
      "  Resources contributed: {}\n",
      "  Still needed: {<ResourceType.PLANT_FIBER: 'plant_fiber'>: 40}\n",
      "\n",
      "rudder:\n",
      "  Progress: 0%\n",
      "  Complete: False\n",
      "  Resources contributed: {}\n",
      "  Still needed: {<ResourceType.METAL: 'metal'>: 15, <ResourceType.WOOD: 'wood'>: 10}\n",
      "\n",
      "supplies:\n",
      "  Progress: 0%\n",
      "  Complete: False\n",
      "  Resources contributed: {}\n",
      "  Still needed: {<ResourceType.APPLE: 'apple'>: 10, <ResourceType.BERRY: 'berry'>: 10}\n",
      "\n",
      "Ship Complete: False\n",
      "\n",
      "Final Common Inventory:\n",
      "\n",
      "Final Sailor Status:\n",
      "  Position: (1, 18, <MapLevel.GROUND: 0>)\n",
      "  Energy: 0/100\n",
      "  Backpack items: 1\n"
     ]
    }
   ],
   "source": [
    "# Display final ship building progress\n",
    "print(\"Final Ship Building Status:\")\n",
    "print(\"=\" * 50)\n",
    "for component in ShipComponent:\n",
    "    comp_progress = env.state.ship_progress.components[component]\n",
    "    print(f\"{component.value}:\")\n",
    "    print(f\"  Progress: {comp_progress.progress_percentage}%\")\n",
    "    print(f\"  Complete: {comp_progress.completed}\")\n",
    "    print(f\"  Resources contributed: {comp_progress.resources_contributed}\")\n",
    "    remaining = comp_progress.get_remaining_resources()\n",
    "    if remaining:\n",
    "        print(f\"  Still needed: {remaining}\")\n",
    "    print()\n",
    "\n",
    "print(f\"Ship Complete: {env.state.ship_progress.is_complete()}\")\n",
    "\n",
    "# Final common inventory\n",
    "print(f\"\\nFinal Common Inventory:\")\n",
    "for item in env.state.common_inventory:\n",
    "    print(f\"  {item.resource_type.value}: {item.quantity}\")\n",
    "\n",
    "# Final sailor status\n",
    "sailor = env.state.sailors[PLAYER_ID]\n",
    "print(f\"\\nFinal Sailor Status:\")\n",
    "print(f\"  Position: {sailor.position.to_tuple()}\")\n",
    "print(f\"  Energy: {sailor.energy}/{MAX_ENERGY}\")\n",
    "print(f\"  Backpack items: {sum(1 for item in sailor.backpack if item.quantity > 0)}\")"
   ]
  }
 ],
 "metadata": {
  "kernelspec": {
   "display_name": ".venv",
   "language": "python",
   "name": "python3"
  },
  "language_info": {
   "codemirror_mode": {
    "name": "ipython",
    "version": 3
   },
   "file_extension": ".py",
   "mimetype": "text/x-python",
   "name": "python",
   "nbconvert_exporter": "python",
   "pygments_lexer": "ipython3",
   "version": "3.12.11"
  }
 },
 "nbformat": 4,
 "nbformat_minor": 5
}
