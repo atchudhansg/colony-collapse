{
 "cells": [
  {
   "cell_type": "markdown",
   "id": "1705e8e0",
   "metadata": {},
   "source": [
    "# 🏴‍☠️ MAROONED - Evaluation & Replay\n",
    "\n",
    "Visualization and storytelling from game replays."
   ]
  },
  {
   "cell_type": "markdown",
   "id": "4632f8dc",
   "metadata": {},
   "source": [
    "## 📦 Setup"
   ]
  },
  {
   "cell_type": "code",
   "execution_count": null,
   "id": "0bd08c44",
   "metadata": {},
   "outputs": [],
   "source": [
    "import sys\n",
    "import os\n",
    "sys.path.insert(0, os.path.abspath('../marooned_env'))\n",
    "\n",
    "import json\n",
    "import matplotlib.pyplot as plt\n",
    "from marooned_env.environment import MaroonedEnv\n",
    "from marooned_env.models import Action\n",
    "from marooned_env.config import ActionType\n",
    "\n",
    "print(\"✅ Imports successful!\")"
   ]
  },
  {
   "cell_type": "markdown",
   "id": "a702d559",
   "metadata": {},
   "source": [
    "## 📊 Load and Replay Episode"
   ]
  },
  {
   "cell_type": "code",
   "execution_count": null,
   "id": "0a00571e",
   "metadata": {},
   "outputs": [],
   "source": [
    "def load_episode(path: str):\n",
    "    \"\"\"Load saved episode data.\"\"\"\n",
    "    with open(path, 'r') as f:\n",
    "        return json.load(f)\n",
    "\n",
    "def replay_episode(episode_data: dict):\n",
    "    \"\"\"Replay and visualize an episode.\"\"\"\n",
    "    print(f\"🏴‍☠️ Episode Replay\")\n",
    "    print(f\"Winner: {episode_data.get('winner', 'Unknown')}\")\n",
    "    print(f\"Days: {episode_data.get('days', 0)}\")\n",
    "    print(f\"Ship Progress: {episode_data.get('ship_progress', 0)}%\")\n",
    "\n",
    "# Example usage:\n",
    "# episode = load_episode(\"./episodes/episode_1.json\")\n",
    "# replay_episode(episode)"
   ]
  },
  {
   "cell_type": "markdown",
   "id": "e7492ea8",
   "metadata": {},
   "source": [
    "## 📈 Visualization"
   ]
  },
  {
   "cell_type": "code",
   "execution_count": null,
   "id": "37c755d9",
   "metadata": {},
   "outputs": [],
   "source": [
    "def plot_episode_metrics(history: list):\n",
    "    \"\"\"Plot ship progress and sailor survival.\"\"\"\n",
    "    days = [h['day'] for h in history]\n",
    "    ship = [h['ship_progress'] for h in history]\n",
    "    sailors = [h['living_sailors'] for h in history]\n",
    "    \n",
    "    fig, (ax1, ax2) = plt.subplots(2, 1, figsize=(10, 6))\n",
    "    \n",
    "    ax1.plot(days, ship, 'b-')\n",
    "    ax1.set_ylabel('Ship Progress (%)')\n",
    "    ax1.grid(True, alpha=0.3)\n",
    "    \n",
    "    ax2.plot(days, sailors, 'r-')\n",
    "    ax2.set_ylabel('Living Sailors')\n",
    "    ax2.set_xlabel('Day')\n",
    "    ax2.grid(True, alpha=0.3)\n",
    "    \n",
    "    plt.tight_layout()\n",
    "    plt.show()\n",
    "\n",
    "print(\"✅ Visualization functions ready\")"
   ]
  },
  {
   "cell_type": "markdown",
   "id": "d2fa1167",
   "metadata": {},
   "source": [
    "## 🎬 Generate Story\n",
    "\n",
    "Create narrative from gameplay events."
   ]
  },
  {
   "cell_type": "code",
   "execution_count": null,
   "id": "8f7fb7bf",
   "metadata": {},
   "outputs": [],
   "source": [
    "def generate_story(episode_data: dict) -> str:\n",
    "    \"\"\"Generate narrative story from episode.\"\"\"\n",
    "    story = f\"# The Tale of the Marooned Sailors\\n\\n\"\n",
    "    story += f\"Five sailors were shipwrecked on a mysterious island.\\n\"\n",
    "    story += f\"They had 100 days to rebuild their ship and escape.\\n\"\n",
    "    story += f\"But one among them was a traitor...\\n\\n\"\n",
    "    \n",
    "    # Add key events\n",
    "    winner = episode_data.get('winner', 'unknown')\n",
    "    days = episode_data.get('days', 0)\n",
    "    \n",
    "    story += f\"After {days} days of survival, \"\n",
    "    if winner == 'sailors':\n",
    "        story += \"the honest sailors prevailed and escaped!\\n\"\n",
    "    else:\n",
    "        story += \"the traitor succeeded in preventing their escape.\\n\"\n",
    "    \n",
    "    return story\n",
    "\n",
    "# Example:\n",
    "# story = generate_story(episode_data)\n",
    "# print(story)"
   ]
  }
 ],
 "metadata": {
  "language_info": {
   "name": "python"
  }
 },
 "nbformat": 4,
 "nbformat_minor": 5
}
